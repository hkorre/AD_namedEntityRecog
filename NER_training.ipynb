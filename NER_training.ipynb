{
 "cells": [
  {
   "cell_type": "code",
   "execution_count": 1,
   "metadata": {
    "id": "Kp0DBqhf2kmp"
   },
   "outputs": [],
   "source": [
    "import pandas as pd, spacy, random\n",
    "from spacy.util import minibatch, compounding"
   ]
  },
  {
   "cell_type": "markdown",
   "metadata": {
    "id": "cTvEuTlwMhxY"
   },
   "source": [
    "# Load the training data"
   ]
  },
  {
   "cell_type": "markdown",
   "metadata": {
    "id": "IY5lUpFoMoCF"
   },
   "source": [
    "## Training data format:\n",
    "A list of tuples, where each tuple contains 1 data point for a text as shown below.\n",
    "\n",
    "The numbers means starting and ending position of the entities in hte text or string. For example 'STREET' starts at position 210 and ends at position 229 of the string."
   ]
  },
  {
   "cell_type": "code",
   "execution_count": null,
   "metadata": {
    "ExecuteTime": {
     "end_time": "2021-04-24T15:51:59.461784Z",
     "start_time": "2021-04-24T15:51:59.458969Z"
    },
    "id": "4c_8n5GBTTIM"
   },
   "outputs": [],
   "source": [
    "SAMPLE_TRAIN_DATA = [('BE SUBORDINATED UPON THE REFINANCING OF ANY PRIOR MORTGAGE\\nTHIS DEED OF TRUST...',\n",
    " {'entities': [(210, 229, 'STREET'), (231, 239, 'CITY'), (241, 243, 'STATE'), (244, 249, 'ZIP')]})]"
   ]
  },
  {
   "cell_type": "markdown",
   "metadata": {
    "id": "XRniCAZMP8Bt"
   },
   "source": [
    "### When labeling entities, there're some special cases to be aware of. If you see random characters is linked together with your entities, you need  to include them as part of the entity.\n",
    "\n",
    "Examples:\n",
    "\n",
    "The @ part means entity. @ is not actually in the string, it's just to show you where the entity is at.\n",
    "\n",
    "*   Here is a sample @entity@.\n",
    "*   Here is a sample @!!#entity*@.\n",
    "*   Here is a sample &*( @entity entity@.\n",
    "*   Here is a sample @^Washington D.C.@, blah blah.\n",
    "\n"
   ]
  },
  {
   "cell_type": "markdown",
   "metadata": {
    "id": "2RmgiijxN4jN"
   },
   "source": [
    "## Load your training data here."
   ]
  },
  {
   "cell_type": "code",
   "execution_count": 2,
   "metadata": {},
   "outputs": [],
   "source": [
    "HOME_PDF = 'data/notes_Redacted.pdf'"
   ]
  },
  {
   "cell_type": "code",
   "execution_count": 3,
   "metadata": {},
   "outputs": [],
   "source": [
    "#https://stackoverflow.com/questions/29657237/tesseract-ocr-pdf-as-input\n",
    "\n",
    "import pdf2image\n",
    "try:\n",
    "    from PIL import Image\n",
    "except ImportError:\n",
    "    import Image\n",
    "import pytesseract\n",
    "\n",
    "\n",
    "def pdf_to_img(pdf_file):\n",
    "    return pdf2image.convert_from_path(pdf_file)\n",
    "\n",
    "\n",
    "def ocr_core(file):\n",
    "    text = pytesseract.image_to_string(file)\n",
    "    return text\n",
    "\n",
    "\n",
    "def print_pages(pdf_file):\n",
    "    images = pdf_to_img(pdf_file)\n",
    "    for pg, img in enumerate(images):\n",
    "        print(ocr_core(img))"
   ]
  },
  {
   "cell_type": "code",
   "execution_count": 16,
   "metadata": {},
   "outputs": [
    {
     "name": "stdout",
     "output_type": "stream",
     "text": [
      "page 0\n",
      "' \\n\\n \\n\\nADJUSTABLE RATE NOTE\\n(HOME EQUITY CONVERSION)\\nSTATE OF VA\\n\\nAugust 29, 2008\\n\\nPROPERTY ADDRESS FHA Case Number: PF\\nLoan\\n\\nMIN Number:\\nNorfolk, VA 23507\\nNorfolk (City) COUNTY\\n\\n1. DEFINITIONS :\\n\"Borrower\" means each person signing at the end of this Note. \"Lender\" means EverBank Reverse Mortgage LLC and its\\nsuccessors and assigns. \"Secretary\" means the Secretary of Housing and Urban Development or his or her authorized\\nrepresentatives.\\n\\n2. BORROWER\\'S PROMISE TO PAY; INTEREST\\n\\nIn return for amounts to be advanced by Lender up to a maximum principal amount of Four Hundred Seventy Thousand Two\\nHundred Fifty and 00/100 Dollars ($470,250.00), to or for the benefit of Borrower under the terms of a Home Equity\\nConversion Loan Agreement dated August 29, 2008 (\"Loan Agreement\"), Borrower promises to pay to the order of Lender a\\nprincipal amount equal to the sum of all Loan Advances made under the Loan Agreement with interest. All amounts advanced by\\nLender, plus interest, if not paid earlier, are due and payable on July 14, 2087. Interest will be charged on unpaid principal at the\\nrate of Three and 472/1000 percent (3.472%) per year until the full amount of principal has been paid. The interest rate may\\nchange in accordance with Paragraph 5 of this Note. At the end of each month, accrued interest shall be added to and made part of\\nthe principal balance as a Loan Advance and shall likewise thereafter bear interest.\\n\\nThe interest rate required by this Paragraph 2 and Paragraph 5 of this Note is the rate of interest Borrower will pay on the\\noutstanding balance both before and after this Note becomes due and payable as described in Paragraph 7 of this Note, until\\nrepayment in full is made.\\n\\n3. PROMISE TO PAY SECURED\\n\\nBorrower\\'s promise to pay is secured by a mortgage, deed of trust or similar security instrument that is dated the same date as this\\nNote and called the \"Security Instrument.\" The Security Instrument protects the Lender from losses which might result if\\nBorrower defaults under this Note.\\n\\n4, MANNER OF PAYMENT\\n\\n(A) Time\\nBorrower shall pay all outstanding principal and accrued interest to Lender upon receipt of a notice by Lender requiring immediate\\npayment in full, as provided in Paragraph 7 of this Note.\\n\\n(B) Place\\nPayment shall be made at 700 Corporate Blvd., Newburgh, NY 12550 or any such other place as Lender may designate in\\nwriting by notice to Borrower.\\n\\n(C) Limitation of Liability\\n\\nBorrower shall have no personal liability for payment of the debt. Lender shal! enforce the debt only through sale of the Property\\ncovered by the Security Instrument (\"Property\"). If this Note is assigned to the Secretary, the Borrower shall not be liable for any\\ndifference between the mortgage insurance benefits paid to Lender and the outstanding indebtedness, including accrued interest,\\nowed by Borrower at the time of the assignment.\\n\\n5. INTEREST RATE CHANGES\\n\\n(A) Change Date\\nThe interest rate may change on DECEMBER 1, 2008 and on ___ that day of each succeeding year, or _X__ the first day of each\\nsucceeding month. “Change Date” means each date on which the interest rate could change.\\n\\n(B) The Index\\n\\nBeginning with the first Change Date, the interest rate will be based on an Index. “Index\" means the One-Month London\\nInterbank Offered Rate (\"LIBOR\") as made available in the \"Money Rates\" section of the Wall Street Journal.. \"Current Index\"\\nmeans the most recent Index figure available 30 days before the Change Date. If the Index (as defined above) is no longer\\navailable, Lender will use as a new Index any index prescribed by the Secretary. Lender will give Borrower notice of the new\\nIndex,\\n\\n(C) Calculation of Interest Rate Changes\\n\\nBefore cach Change Date, Lender will calculate a new interest rate by adding a margin of 1.000 percentage points to the Current\\nIndex. Subject to the limits stated in Paragraph 5(D) of this Note, this amount will be the new interest rate until the next Change\\nDate\\n\\n \\n\\n \\n\\nFirst Note\\n\\nTAMPA OEE AAAI Th\\n\\n \\n\\n|\\n\\x0c'\n",
      "page 1\n"
     ]
    },
    {
     "ename": "KeyboardInterrupt",
     "evalue": "",
     "output_type": "error",
     "traceback": [
      "\u001b[0;31m---------------------------------------------------------------------------\u001b[0m",
      "\u001b[0;31mKeyboardInterrupt\u001b[0m                         Traceback (most recent call last)",
      "\u001b[0;32m<ipython-input-16-12ea250da566>\u001b[0m in \u001b[0;36m<module>\u001b[0;34m\u001b[0m\n\u001b[1;32m      7\u001b[0m             \u001b[0mprint\u001b[0m\u001b[0;34m(\u001b[0m\u001b[0mrepr\u001b[0m\u001b[0;34m(\u001b[0m\u001b[0mocr_core\u001b[0m\u001b[0;34m(\u001b[0m\u001b[0mimg\u001b[0m\u001b[0;34m)\u001b[0m\u001b[0;34m)\u001b[0m\u001b[0;34m)\u001b[0m     \u001b[0;31m# print with newline characters visible\u001b[0m\u001b[0;34m\u001b[0m\u001b[0;34m\u001b[0m\u001b[0m\n\u001b[1;32m      8\u001b[0m \u001b[0;34m\u001b[0m\u001b[0m\n\u001b[0;32m----> 9\u001b[0;31m \u001b[0mprint_pages_max\u001b[0m\u001b[0;34m(\u001b[0m\u001b[0mHOME_PDF\u001b[0m\u001b[0;34m,\u001b[0m \u001b[0;36m4\u001b[0m\u001b[0;34m)\u001b[0m\u001b[0;34m\u001b[0m\u001b[0;34m\u001b[0m\u001b[0m\n\u001b[0m",
      "\u001b[0;32m<ipython-input-16-12ea250da566>\u001b[0m in \u001b[0;36mprint_pages_max\u001b[0;34m(pdf_file, max_page)\u001b[0m\n\u001b[1;32m      5\u001b[0m             \u001b[0mprint\u001b[0m\u001b[0;34m(\u001b[0m\u001b[0;34m'page '\u001b[0m \u001b[0;34m+\u001b[0m \u001b[0mstr\u001b[0m\u001b[0;34m(\u001b[0m\u001b[0mpg\u001b[0m\u001b[0;34m)\u001b[0m\u001b[0;34m)\u001b[0m\u001b[0;34m\u001b[0m\u001b[0;34m\u001b[0m\u001b[0m\n\u001b[1;32m      6\u001b[0m             \u001b[0;31m#print(ocr_core(img))\u001b[0m\u001b[0;34m\u001b[0m\u001b[0;34m\u001b[0m\u001b[0;34m\u001b[0m\u001b[0m\n\u001b[0;32m----> 7\u001b[0;31m             \u001b[0mprint\u001b[0m\u001b[0;34m(\u001b[0m\u001b[0mrepr\u001b[0m\u001b[0;34m(\u001b[0m\u001b[0mocr_core\u001b[0m\u001b[0;34m(\u001b[0m\u001b[0mimg\u001b[0m\u001b[0;34m)\u001b[0m\u001b[0;34m)\u001b[0m\u001b[0;34m)\u001b[0m     \u001b[0;31m# print with newline characters visible\u001b[0m\u001b[0;34m\u001b[0m\u001b[0;34m\u001b[0m\u001b[0m\n\u001b[0m\u001b[1;32m      8\u001b[0m \u001b[0;34m\u001b[0m\u001b[0m\n\u001b[1;32m      9\u001b[0m \u001b[0mprint_pages_max\u001b[0m\u001b[0;34m(\u001b[0m\u001b[0mHOME_PDF\u001b[0m\u001b[0;34m,\u001b[0m \u001b[0;36m4\u001b[0m\u001b[0;34m)\u001b[0m\u001b[0;34m\u001b[0m\u001b[0;34m\u001b[0m\u001b[0m\n",
      "\u001b[0;32m<ipython-input-3-6301d46c39cc>\u001b[0m in \u001b[0;36mocr_core\u001b[0;34m(file)\u001b[0m\n\u001b[1;32m     14\u001b[0m \u001b[0;34m\u001b[0m\u001b[0m\n\u001b[1;32m     15\u001b[0m \u001b[0;32mdef\u001b[0m \u001b[0mocr_core\u001b[0m\u001b[0;34m(\u001b[0m\u001b[0mfile\u001b[0m\u001b[0;34m)\u001b[0m\u001b[0;34m:\u001b[0m\u001b[0;34m\u001b[0m\u001b[0;34m\u001b[0m\u001b[0m\n\u001b[0;32m---> 16\u001b[0;31m     \u001b[0mtext\u001b[0m \u001b[0;34m=\u001b[0m \u001b[0mpytesseract\u001b[0m\u001b[0;34m.\u001b[0m\u001b[0mimage_to_string\u001b[0m\u001b[0;34m(\u001b[0m\u001b[0mfile\u001b[0m\u001b[0;34m)\u001b[0m\u001b[0;34m\u001b[0m\u001b[0;34m\u001b[0m\u001b[0m\n\u001b[0m\u001b[1;32m     17\u001b[0m     \u001b[0;32mreturn\u001b[0m \u001b[0mtext\u001b[0m\u001b[0;34m\u001b[0m\u001b[0;34m\u001b[0m\u001b[0m\n\u001b[1;32m     18\u001b[0m \u001b[0;34m\u001b[0m\u001b[0m\n",
      "\u001b[0;32m/opt/conda/lib/python3.8/site-packages/pytesseract/pytesseract.py\u001b[0m in \u001b[0;36mimage_to_string\u001b[0;34m(image, lang, config, nice, output_type, timeout)\u001b[0m\n\u001b[1;32m    407\u001b[0m     \u001b[0margs\u001b[0m \u001b[0;34m=\u001b[0m \u001b[0;34m[\u001b[0m\u001b[0mimage\u001b[0m\u001b[0;34m,\u001b[0m \u001b[0;34m'txt'\u001b[0m\u001b[0;34m,\u001b[0m \u001b[0mlang\u001b[0m\u001b[0;34m,\u001b[0m \u001b[0mconfig\u001b[0m\u001b[0;34m,\u001b[0m \u001b[0mnice\u001b[0m\u001b[0;34m,\u001b[0m \u001b[0mtimeout\u001b[0m\u001b[0;34m]\u001b[0m\u001b[0;34m\u001b[0m\u001b[0;34m\u001b[0m\u001b[0m\n\u001b[1;32m    408\u001b[0m \u001b[0;34m\u001b[0m\u001b[0m\n\u001b[0;32m--> 409\u001b[0;31m     return {\n\u001b[0m\u001b[1;32m    410\u001b[0m         \u001b[0mOutput\u001b[0m\u001b[0;34m.\u001b[0m\u001b[0mBYTES\u001b[0m\u001b[0;34m:\u001b[0m \u001b[0;32mlambda\u001b[0m\u001b[0;34m:\u001b[0m \u001b[0mrun_and_get_output\u001b[0m\u001b[0;34m(\u001b[0m\u001b[0;34m*\u001b[0m\u001b[0;34m(\u001b[0m\u001b[0margs\u001b[0m \u001b[0;34m+\u001b[0m \u001b[0;34m[\u001b[0m\u001b[0;32mTrue\u001b[0m\u001b[0;34m]\u001b[0m\u001b[0;34m)\u001b[0m\u001b[0;34m)\u001b[0m\u001b[0;34m,\u001b[0m\u001b[0;34m\u001b[0m\u001b[0;34m\u001b[0m\u001b[0m\n\u001b[1;32m    411\u001b[0m         \u001b[0mOutput\u001b[0m\u001b[0;34m.\u001b[0m\u001b[0mDICT\u001b[0m\u001b[0;34m:\u001b[0m \u001b[0;32mlambda\u001b[0m\u001b[0;34m:\u001b[0m \u001b[0;34m{\u001b[0m\u001b[0;34m'text'\u001b[0m\u001b[0;34m:\u001b[0m \u001b[0mrun_and_get_output\u001b[0m\u001b[0;34m(\u001b[0m\u001b[0;34m*\u001b[0m\u001b[0margs\u001b[0m\u001b[0;34m)\u001b[0m\u001b[0;34m}\u001b[0m\u001b[0;34m,\u001b[0m\u001b[0;34m\u001b[0m\u001b[0;34m\u001b[0m\u001b[0m\n",
      "\u001b[0;32m/opt/conda/lib/python3.8/site-packages/pytesseract/pytesseract.py\u001b[0m in \u001b[0;36m<lambda>\u001b[0;34m()\u001b[0m\n\u001b[1;32m    410\u001b[0m         \u001b[0mOutput\u001b[0m\u001b[0;34m.\u001b[0m\u001b[0mBYTES\u001b[0m\u001b[0;34m:\u001b[0m \u001b[0;32mlambda\u001b[0m\u001b[0;34m:\u001b[0m \u001b[0mrun_and_get_output\u001b[0m\u001b[0;34m(\u001b[0m\u001b[0;34m*\u001b[0m\u001b[0;34m(\u001b[0m\u001b[0margs\u001b[0m \u001b[0;34m+\u001b[0m \u001b[0;34m[\u001b[0m\u001b[0;32mTrue\u001b[0m\u001b[0;34m]\u001b[0m\u001b[0;34m)\u001b[0m\u001b[0;34m)\u001b[0m\u001b[0;34m,\u001b[0m\u001b[0;34m\u001b[0m\u001b[0;34m\u001b[0m\u001b[0m\n\u001b[1;32m    411\u001b[0m         \u001b[0mOutput\u001b[0m\u001b[0;34m.\u001b[0m\u001b[0mDICT\u001b[0m\u001b[0;34m:\u001b[0m \u001b[0;32mlambda\u001b[0m\u001b[0;34m:\u001b[0m \u001b[0;34m{\u001b[0m\u001b[0;34m'text'\u001b[0m\u001b[0;34m:\u001b[0m \u001b[0mrun_and_get_output\u001b[0m\u001b[0;34m(\u001b[0m\u001b[0;34m*\u001b[0m\u001b[0margs\u001b[0m\u001b[0;34m)\u001b[0m\u001b[0;34m}\u001b[0m\u001b[0;34m,\u001b[0m\u001b[0;34m\u001b[0m\u001b[0;34m\u001b[0m\u001b[0m\n\u001b[0;32m--> 412\u001b[0;31m         \u001b[0mOutput\u001b[0m\u001b[0;34m.\u001b[0m\u001b[0mSTRING\u001b[0m\u001b[0;34m:\u001b[0m \u001b[0;32mlambda\u001b[0m\u001b[0;34m:\u001b[0m \u001b[0mrun_and_get_output\u001b[0m\u001b[0;34m(\u001b[0m\u001b[0;34m*\u001b[0m\u001b[0margs\u001b[0m\u001b[0;34m)\u001b[0m\u001b[0;34m,\u001b[0m\u001b[0;34m\u001b[0m\u001b[0;34m\u001b[0m\u001b[0m\n\u001b[0m\u001b[1;32m    413\u001b[0m     }[output_type]()\n\u001b[1;32m    414\u001b[0m \u001b[0;34m\u001b[0m\u001b[0m\n",
      "\u001b[0;32m/opt/conda/lib/python3.8/site-packages/pytesseract/pytesseract.py\u001b[0m in \u001b[0;36mrun_and_get_output\u001b[0;34m(image, extension, lang, config, nice, timeout, return_bytes)\u001b[0m\n\u001b[1;32m    285\u001b[0m         }\n\u001b[1;32m    286\u001b[0m \u001b[0;34m\u001b[0m\u001b[0m\n\u001b[0;32m--> 287\u001b[0;31m         \u001b[0mrun_tesseract\u001b[0m\u001b[0;34m(\u001b[0m\u001b[0;34m**\u001b[0m\u001b[0mkwargs\u001b[0m\u001b[0;34m)\u001b[0m\u001b[0;34m\u001b[0m\u001b[0;34m\u001b[0m\u001b[0m\n\u001b[0m\u001b[1;32m    288\u001b[0m         \u001b[0mfilename\u001b[0m \u001b[0;34m=\u001b[0m \u001b[0mkwargs\u001b[0m\u001b[0;34m[\u001b[0m\u001b[0;34m'output_filename_base'\u001b[0m\u001b[0;34m]\u001b[0m \u001b[0;34m+\u001b[0m \u001b[0mextsep\u001b[0m \u001b[0;34m+\u001b[0m \u001b[0mextension\u001b[0m\u001b[0;34m\u001b[0m\u001b[0;34m\u001b[0m\u001b[0m\n\u001b[1;32m    289\u001b[0m         \u001b[0;32mwith\u001b[0m \u001b[0mopen\u001b[0m\u001b[0;34m(\u001b[0m\u001b[0mfilename\u001b[0m\u001b[0;34m,\u001b[0m \u001b[0;34m'rb'\u001b[0m\u001b[0;34m)\u001b[0m \u001b[0;32mas\u001b[0m \u001b[0moutput_file\u001b[0m\u001b[0;34m:\u001b[0m\u001b[0;34m\u001b[0m\u001b[0;34m\u001b[0m\u001b[0m\n",
      "\u001b[0;32m/opt/conda/lib/python3.8/site-packages/pytesseract/pytesseract.py\u001b[0m in \u001b[0;36mrun_tesseract\u001b[0;34m(input_filename, output_filename_base, extension, lang, config, nice, timeout)\u001b[0m\n\u001b[1;32m    259\u001b[0m         \u001b[0;32mraise\u001b[0m \u001b[0mTesseractNotFoundError\u001b[0m\u001b[0;34m(\u001b[0m\u001b[0;34m)\u001b[0m\u001b[0;34m\u001b[0m\u001b[0;34m\u001b[0m\u001b[0m\n\u001b[1;32m    260\u001b[0m \u001b[0;34m\u001b[0m\u001b[0m\n\u001b[0;32m--> 261\u001b[0;31m     \u001b[0;32mwith\u001b[0m \u001b[0mtimeout_manager\u001b[0m\u001b[0;34m(\u001b[0m\u001b[0mproc\u001b[0m\u001b[0;34m,\u001b[0m \u001b[0mtimeout\u001b[0m\u001b[0;34m)\u001b[0m \u001b[0;32mas\u001b[0m \u001b[0merror_string\u001b[0m\u001b[0;34m:\u001b[0m\u001b[0;34m\u001b[0m\u001b[0;34m\u001b[0m\u001b[0m\n\u001b[0m\u001b[1;32m    262\u001b[0m         \u001b[0;32mif\u001b[0m \u001b[0mproc\u001b[0m\u001b[0;34m.\u001b[0m\u001b[0mreturncode\u001b[0m\u001b[0;34m:\u001b[0m\u001b[0;34m\u001b[0m\u001b[0;34m\u001b[0m\u001b[0m\n\u001b[1;32m    263\u001b[0m             \u001b[0;32mraise\u001b[0m \u001b[0mTesseractError\u001b[0m\u001b[0;34m(\u001b[0m\u001b[0mproc\u001b[0m\u001b[0;34m.\u001b[0m\u001b[0mreturncode\u001b[0m\u001b[0;34m,\u001b[0m \u001b[0mget_errors\u001b[0m\u001b[0;34m(\u001b[0m\u001b[0merror_string\u001b[0m\u001b[0;34m)\u001b[0m\u001b[0;34m)\u001b[0m\u001b[0;34m\u001b[0m\u001b[0;34m\u001b[0m\u001b[0m\n",
      "\u001b[0;32m/opt/conda/lib/python3.8/contextlib.py\u001b[0m in \u001b[0;36m__enter__\u001b[0;34m(self)\u001b[0m\n\u001b[1;32m    111\u001b[0m         \u001b[0;32mdel\u001b[0m \u001b[0mself\u001b[0m\u001b[0;34m.\u001b[0m\u001b[0margs\u001b[0m\u001b[0;34m,\u001b[0m \u001b[0mself\u001b[0m\u001b[0;34m.\u001b[0m\u001b[0mkwds\u001b[0m\u001b[0;34m,\u001b[0m \u001b[0mself\u001b[0m\u001b[0;34m.\u001b[0m\u001b[0mfunc\u001b[0m\u001b[0;34m\u001b[0m\u001b[0;34m\u001b[0m\u001b[0m\n\u001b[1;32m    112\u001b[0m         \u001b[0;32mtry\u001b[0m\u001b[0;34m:\u001b[0m\u001b[0;34m\u001b[0m\u001b[0;34m\u001b[0m\u001b[0m\n\u001b[0;32m--> 113\u001b[0;31m             \u001b[0;32mreturn\u001b[0m \u001b[0mnext\u001b[0m\u001b[0;34m(\u001b[0m\u001b[0mself\u001b[0m\u001b[0;34m.\u001b[0m\u001b[0mgen\u001b[0m\u001b[0;34m)\u001b[0m\u001b[0;34m\u001b[0m\u001b[0;34m\u001b[0m\u001b[0m\n\u001b[0m\u001b[1;32m    114\u001b[0m         \u001b[0;32mexcept\u001b[0m \u001b[0mStopIteration\u001b[0m\u001b[0;34m:\u001b[0m\u001b[0;34m\u001b[0m\u001b[0;34m\u001b[0m\u001b[0m\n\u001b[1;32m    115\u001b[0m             \u001b[0;32mraise\u001b[0m \u001b[0mRuntimeError\u001b[0m\u001b[0;34m(\u001b[0m\u001b[0;34m\"generator didn't yield\"\u001b[0m\u001b[0;34m)\u001b[0m \u001b[0;32mfrom\u001b[0m \u001b[0;32mNone\u001b[0m\u001b[0;34m\u001b[0m\u001b[0;34m\u001b[0m\u001b[0m\n",
      "\u001b[0;32m/opt/conda/lib/python3.8/site-packages/pytesseract/pytesseract.py\u001b[0m in \u001b[0;36mtimeout_manager\u001b[0;34m(proc, seconds)\u001b[0m\n\u001b[1;32m    123\u001b[0m     \u001b[0;32mtry\u001b[0m\u001b[0;34m:\u001b[0m\u001b[0;34m\u001b[0m\u001b[0;34m\u001b[0m\u001b[0m\n\u001b[1;32m    124\u001b[0m         \u001b[0;32mif\u001b[0m \u001b[0;32mnot\u001b[0m \u001b[0mseconds\u001b[0m\u001b[0;34m:\u001b[0m\u001b[0;34m\u001b[0m\u001b[0;34m\u001b[0m\u001b[0m\n\u001b[0;32m--> 125\u001b[0;31m             \u001b[0;32myield\u001b[0m \u001b[0mproc\u001b[0m\u001b[0;34m.\u001b[0m\u001b[0mcommunicate\u001b[0m\u001b[0;34m(\u001b[0m\u001b[0;34m)\u001b[0m\u001b[0;34m[\u001b[0m\u001b[0;36m1\u001b[0m\u001b[0;34m]\u001b[0m\u001b[0;34m\u001b[0m\u001b[0;34m\u001b[0m\u001b[0m\n\u001b[0m\u001b[1;32m    126\u001b[0m             \u001b[0;32mreturn\u001b[0m\u001b[0;34m\u001b[0m\u001b[0;34m\u001b[0m\u001b[0m\n\u001b[1;32m    127\u001b[0m \u001b[0;34m\u001b[0m\u001b[0m\n",
      "\u001b[0;32m/opt/conda/lib/python3.8/subprocess.py\u001b[0m in \u001b[0;36mcommunicate\u001b[0;34m(self, input, timeout)\u001b[0m\n\u001b[1;32m   1022\u001b[0m \u001b[0;34m\u001b[0m\u001b[0m\n\u001b[1;32m   1023\u001b[0m             \u001b[0;32mtry\u001b[0m\u001b[0;34m:\u001b[0m\u001b[0;34m\u001b[0m\u001b[0;34m\u001b[0m\u001b[0m\n\u001b[0;32m-> 1024\u001b[0;31m                 \u001b[0mstdout\u001b[0m\u001b[0;34m,\u001b[0m \u001b[0mstderr\u001b[0m \u001b[0;34m=\u001b[0m \u001b[0mself\u001b[0m\u001b[0;34m.\u001b[0m\u001b[0m_communicate\u001b[0m\u001b[0;34m(\u001b[0m\u001b[0minput\u001b[0m\u001b[0;34m,\u001b[0m \u001b[0mendtime\u001b[0m\u001b[0;34m,\u001b[0m \u001b[0mtimeout\u001b[0m\u001b[0;34m)\u001b[0m\u001b[0;34m\u001b[0m\u001b[0;34m\u001b[0m\u001b[0m\n\u001b[0m\u001b[1;32m   1025\u001b[0m             \u001b[0;32mexcept\u001b[0m \u001b[0mKeyboardInterrupt\u001b[0m\u001b[0;34m:\u001b[0m\u001b[0;34m\u001b[0m\u001b[0;34m\u001b[0m\u001b[0m\n\u001b[1;32m   1026\u001b[0m                 \u001b[0;31m# https://bugs.python.org/issue25942\u001b[0m\u001b[0;34m\u001b[0m\u001b[0;34m\u001b[0m\u001b[0;34m\u001b[0m\u001b[0m\n",
      "\u001b[0;32m/opt/conda/lib/python3.8/subprocess.py\u001b[0m in \u001b[0;36m_communicate\u001b[0;34m(self, input, endtime, orig_timeout)\u001b[0m\n\u001b[1;32m   1864\u001b[0m                             'failed to raise TimeoutExpired.')\n\u001b[1;32m   1865\u001b[0m \u001b[0;34m\u001b[0m\u001b[0m\n\u001b[0;32m-> 1866\u001b[0;31m                     \u001b[0mready\u001b[0m \u001b[0;34m=\u001b[0m \u001b[0mselector\u001b[0m\u001b[0;34m.\u001b[0m\u001b[0mselect\u001b[0m\u001b[0;34m(\u001b[0m\u001b[0mtimeout\u001b[0m\u001b[0;34m)\u001b[0m\u001b[0;34m\u001b[0m\u001b[0;34m\u001b[0m\u001b[0m\n\u001b[0m\u001b[1;32m   1867\u001b[0m                     \u001b[0mself\u001b[0m\u001b[0;34m.\u001b[0m\u001b[0m_check_timeout\u001b[0m\u001b[0;34m(\u001b[0m\u001b[0mendtime\u001b[0m\u001b[0;34m,\u001b[0m \u001b[0morig_timeout\u001b[0m\u001b[0;34m,\u001b[0m \u001b[0mstdout\u001b[0m\u001b[0;34m,\u001b[0m \u001b[0mstderr\u001b[0m\u001b[0;34m)\u001b[0m\u001b[0;34m\u001b[0m\u001b[0;34m\u001b[0m\u001b[0m\n\u001b[1;32m   1868\u001b[0m \u001b[0;34m\u001b[0m\u001b[0m\n",
      "\u001b[0;32m/opt/conda/lib/python3.8/selectors.py\u001b[0m in \u001b[0;36mselect\u001b[0;34m(self, timeout)\u001b[0m\n\u001b[1;32m    413\u001b[0m         \u001b[0mready\u001b[0m \u001b[0;34m=\u001b[0m \u001b[0;34m[\u001b[0m\u001b[0;34m]\u001b[0m\u001b[0;34m\u001b[0m\u001b[0;34m\u001b[0m\u001b[0m\n\u001b[1;32m    414\u001b[0m         \u001b[0;32mtry\u001b[0m\u001b[0;34m:\u001b[0m\u001b[0;34m\u001b[0m\u001b[0;34m\u001b[0m\u001b[0m\n\u001b[0;32m--> 415\u001b[0;31m             \u001b[0mfd_event_list\u001b[0m \u001b[0;34m=\u001b[0m \u001b[0mself\u001b[0m\u001b[0;34m.\u001b[0m\u001b[0m_selector\u001b[0m\u001b[0;34m.\u001b[0m\u001b[0mpoll\u001b[0m\u001b[0;34m(\u001b[0m\u001b[0mtimeout\u001b[0m\u001b[0;34m)\u001b[0m\u001b[0;34m\u001b[0m\u001b[0;34m\u001b[0m\u001b[0m\n\u001b[0m\u001b[1;32m    416\u001b[0m         \u001b[0;32mexcept\u001b[0m \u001b[0mInterruptedError\u001b[0m\u001b[0;34m:\u001b[0m\u001b[0;34m\u001b[0m\u001b[0;34m\u001b[0m\u001b[0m\n\u001b[1;32m    417\u001b[0m             \u001b[0;32mreturn\u001b[0m \u001b[0mready\u001b[0m\u001b[0;34m\u001b[0m\u001b[0;34m\u001b[0m\u001b[0m\n",
      "\u001b[0;31mKeyboardInterrupt\u001b[0m: "
     ]
    }
   ],
   "source": [
    "def print_pages_max(pdf_file, max_page):\n",
    "    images = pdf_to_img(pdf_file)\n",
    "    for pg, img in enumerate(images):\n",
    "        if pg < max_page:\n",
    "            print('page ' + str(pg))\n",
    "            print(ocr_core(img))\n",
    "            #print(repr(ocr_core(img)))     # print with newline characters visible\n",
    "            \n",
    "print_pages_max(HOME_PDF, 2)"
   ]
  },
  {
   "cell_type": "code",
   "execution_count": 22,
   "metadata": {},
   "outputs": [
    {
     "name": "stdout",
     "output_type": "stream",
     "text": [
      "'   apSOsTaBLe RATE SECONDSOTE (HOME EQUITY CONVERSION)  Loan-No. JUNE 13 , 2008  HR 0D EL, ceorcia 31620  1. DEFINITIONS “Borrower” means each person signing at the end of this Note. “Secretary” or “Lender” means the Secretary of Housing and Urban Development or his or her authorized representatives.  [Property Address]     2. BORROWER’S PROMISE TO PAY; INTEREST  In return for amounts to be advanced by Lender up to a maximum principal amount of $ 168,000.00 ; to or for the benefit of Borrower under the terms of a Home Equity Conversion Loan Agreement dated JUNE 13, 2008 (“Loan Agreement”), Borrower promises to pay to the order of Lender a principal amount equa) to the sum of all Loan Advances made under the Loan Agreement with interest. All amounts advanced by Lender, plus interest, if not due earlier, are due and payable on JULY 21 , 2092 . Interest will be charged on unpaid principal at the rate of FOUR AND 140/1000 percent ( 4.1400 %) per year until the full amount of principal has been paid. The interest rate may change in accordance with Paragraph 5 of this Note. Accrued interest shal] be added to the principal balance as a Loan Advance at the end of each month.  3. PROMISE TO PAY SECURED  Borrower’s promise to pay is secured by a mortgage, deed of trust or similar.security instrument that is dated the same date as this Note and called the “Security Instrument” or the “Second Security Instrument.” The Security Instrument protects the Lender from losses which might result if Borrower defaults under this Note. Borrower also executed a First Security Instrument and First Note when the Second Security Instrument and this Note were executed.  4. MANNER OF PAYMENT  (A) Time  Borrower shall pay all outstanding principal and accrued interest to Lender upon receipt of a notice by Lender requiring immediate payment in full, as provided in Paragraph 7 of this Note. (B) Place  Payment shall be made at the Office of the Housing-FHA Comptroller, Director of Mortgage Insurance Accounting and Servicing, 451 7th Street, S.W., Washington, DC 20410, or any such other place as Lender may designate in writing by notice to Borrower, (C) Limitation of Liability  Borrower shall have no personal liability for payment of the debt. Lender shall enforce the debt only through sale of the Property covered by the Security Instrument (\"Property\").  5. INTEREST RATE CHANGES  (A) Change Date  The interest rate may change on the first day of SEPTEMBER, 2008 , and on CJ that day of each succeeding year BS] the first day of each succeeding month. “Change Date” means each date on which the interest rate could change. {B) The Index  Beginning with the first Change Date, the interest rate will be based on an Index. “Index” means the weekly average yield on United States Treasury Securities adjusted to a constant maturity of one-year, as made available by the Federal Reserve Board in Statistical Release H.15 (519). “Current Index” means the most recent Index figure available 30 days before the Change Date. If the Index (as defined above) is no longer available, Lender will use as a new Index any index prescribed by the Secretary. Lender will give Borrower notice of the new Index. (C) Calculation of Interest Rate Changes  Before each Change Date, Lender will calculate a new interest rate by adding a margin of TWO AND 000/1000 percentage points ( 2.00000 %) to the Current Index. Subject to the limits stated in Paragraph 5(D) of this Note, this amount will be the new interest rate until the next Change Date. (D) Limits on Interest Rate Changes  The interest rate will never increase or decrease by more than two percentage points (2.0%) on any single Change Date.  The interest rate will never be more than five percentage points (5.0%) higher or lower than the initial interest rate stated in Paragraph 2 of this Note.  The interest rate will never increase above FOURTEEN AND 140/1000 percent ( 14.14000 %).  (E) Notice of Changes  Lender will give notice to Borrower of any change in the interest rate. The notice must be given at least 25 days before the new interest rate takes effect, and must set forth (i) the date of the notice, (ii) the Change Date, (iii) the old interest rate, (iv) the new interest rate, (v) the Current Index and the date it was published, (vi) the method of calculating the adjusted interest rate, and (vii) any other information which may be required by law from time to time.  First American Loan Production Services Si) HECM ARM Second Note  © 2008 First American Real Estate Solutions LLC \\x0c'\n"
     ]
    }
   ],
   "source": [
    "note_images = pdf_to_img(HOME_PDF)        \n",
    "\n",
    "def get_page_text(images, page):\n",
    "    for pg, img in enumerate(images):\n",
    "        if pg == page:\n",
    "            return ocr_core(img)\n",
    "        \n",
    "print(get_page_text(note_images, 3))"
   ]
  },
  {
   "cell_type": "markdown",
   "metadata": {
    "id": "2RmgiijxN4jN"
   },
   "source": [
    "### Determine if first or seond note."
   ]
  },
  {
   "cell_type": "code",
   "execution_count": 6,
   "metadata": {},
   "outputs": [
    {
     "name": "stdout",
     "output_type": "stream",
     "text": [
      "Example: First Note...\n",
      "first\n",
      "Example: Second Note...\n",
      "second\n"
     ]
    }
   ],
   "source": [
    "# https://stackoverflow.com/questions/4666973/how-to-extract-the-substring-between-two-markers\n",
    "\n",
    "import re\n",
    "\n",
    "ANCHOR_NOTE = 'RATE(.+?)NOTE'\n",
    "\n",
    "def find_whichNote(text):\n",
    "    matchObj = re.search(ANCHOR_NOTE, text)\n",
    "    if matchObj is not None:\n",
    "        if len(matchObj.group(1).strip()) < 6:\n",
    "               return 'first'\n",
    "    return 'second'\n",
    "\n",
    "\n",
    "print('Example: First Note...')\n",
    "print(find_whichNote(get_page_text(note_images, 0)))\n",
    "print('Example: Second Note...')\n",
    "print(find_whichNote(get_page_text(note_images, 2)))"
   ]
  },
  {
   "cell_type": "markdown",
   "metadata": {
    "id": "2RmgiijxN4jN"
   },
   "source": [
    "### Find Lender."
   ]
  },
  {
   "cell_type": "code",
   "execution_count": 29,
   "metadata": {},
   "outputs": [
    {
     "name": "stdout",
     "output_type": "stream",
     "text": [
      "the Secretary of Housing and Urban Development\n"
     ]
    }
   ],
   "source": [
    "# https://stackoverflow.com/questions/4666973/how-to-extract-the-substring-between-two-markers\n",
    "# https://www.datacamp.com/community/tutorials/python-regular-expression-tutorial\n",
    "\n",
    "import re\n",
    "\n",
    "ANCHOR_LENDER_1 = r'Lender means(.+?)and its successors and assigns?'\n",
    "ANCHOR_LENDER_2 = r'Lender means(.+?)or his or her authorized representatives?'\n",
    "\n",
    "\n",
    "def find_lender(text):\n",
    "    text = text.replace('\\n', ' ').replace('\"', '').replace('“','').replace('”','')\n",
    "    matchObj_1 = re.search(ANCHOR_LENDER_1, text)\n",
    "    if matchObj_1 is not None:\n",
    "        return matchObj_1.group(1).strip()\n",
    "    else:\n",
    "        matchObj_2 = re.search(ANCHOR_LENDER_2, text)\n",
    "        if matchObj_2 is not None:\n",
    "            return matchObj_2.group(1).strip()\n",
    "    return None\n",
    "\n",
    "print('Example1: Type #1...')\n",
    "print(find_lender(get_page_text(note_images, 0)))\n",
    "print('Example2: Type #1...')\n",
    "print(find_lender(get_page_text(note_images, 1)))\n",
    "print('Example3: Type #2...')\n",
    "print(find_lender(get_page_text(note_images, 2)))\n",
    "print(find_lender(get_page_text(note_images, 3)))"
   ]
  },
  {
   "cell_type": "markdown",
   "metadata": {
    "id": "2RmgiijxN4jN"
   },
   "source": [
    "### Find Maximum Principal Amount."
   ]
  },
  {
   "cell_type": "code",
   "execution_count": 14,
   "metadata": {},
   "outputs": [
    {
     "name": "stdout",
     "output_type": "stream",
     "text": [
      "$168,000.00\n"
     ]
    }
   ],
   "source": [
    "# https://stackoverflow.com/questions/46163913/extract-currency-amount-from-string-in-python\n",
    "\n",
    "import re\n",
    "\n",
    "ANCHOR_MAXIMUM_PRINCIPAL_AMOUNT = 'maximum principal amount of'\n",
    "MAX_PRINCIPAL_LENGTH = 100\n",
    "\n",
    "def find_maximumPrincipalAmount(text):\n",
    "    idx_MPA = text.find(ANCHOR_MAXIMUM_PRINCIPAL_AMOUNT)\n",
    "    start_idx = idx_MPA + len(ANCHOR_MAXIMUM_PRINCIPAL_AMOUNT)\n",
    "    principal_list = re.findall(\"(?:[\\£\\$\\€]{1}[\\s]*[,\\d]+\\.?\\d*)\",text[start_idx:start_idx+MAX_PRINCIPAL_LENGTH])\n",
    "    if principal_list is not None and len(principal_list) != 0:\n",
    "        return principal_list[0].replace(\" \", \"\")\n",
    "    return None\n",
    "\n",
    "#print(find_maximumPrincipalAmount(get_page_text(note_images, 0)))\n",
    "print(find_maximumPrincipalAmount(get_page_text(note_images, 3)))"
   ]
  },
  {
   "cell_type": "markdown",
   "metadata": {
    "id": "2RmgiijxN4jN"
   },
   "source": [
    "### Find Maturity Date."
   ]
  },
  {
   "cell_type": "code",
   "execution_count": 9,
   "metadata": {},
   "outputs": [
    {
     "name": "stdout",
     "output_type": "stream",
     "text": [
      "2087-07-14\n"
     ]
    }
   ],
   "source": [
    "#https://stackoverflow.com/questions/19994396/best-way-to-identify-and-extract-dates-from-text-python\n",
    "\n",
    "import datefinder\n",
    "\n",
    "ANCHOR_MATURITY_DATE = 'are due and payable on'\n",
    "MAX_DATE_LENGTH = 20\n",
    "\n",
    "def find_maturityDate(text):\n",
    "    idx_MD = text.find(ANCHOR_MATURITY_DATE)\n",
    "    start_idx = idx_MD + len(ANCHOR_MATURITY_DATE)\n",
    "    matches = datefinder.find_dates(text[start_idx:start_idx+MAX_DATE_LENGTH])\n",
    "    for match in matches:\n",
    "        return match.date()\n",
    "    \n",
    "dateFromDoc = find_maturityDate(get_page_text(note_images, 0))\n",
    "print(dateFromDoc)"
   ]
  },
  {
   "cell_type": "markdown",
   "metadata": {
    "id": "2RmgiijxN4jN"
   },
   "source": [
    "### Create csv, bookmark list, and training data."
   ]
  },
  {
   "cell_type": "code",
   "execution_count": 31,
   "metadata": {},
   "outputs": [
    {
     "name": "stdout",
     "output_type": "stream",
     "text": [
      "page 1...\n",
      "page 2...\n",
      "page 3...\n",
      "page 4...\n",
      "page 5...\n",
      "page 6...\n",
      "['first', 'first', 'second', 'second', 'second', 'first']\n",
      "[]\n"
     ]
    }
   ],
   "source": [
    "import csv\n",
    "\n",
    "CSV_FILENAME = \"mortgage_notes.csv\"\n",
    "CSV_FIELDS = ['page', 'note type', 'lender', 'max principal', 'maturity date']\n",
    "\n",
    "def process_images(images, max_page):\n",
    "    bookmark_list = []\n",
    "    training_data = []\n",
    "    \n",
    "    with open(CSV_FILENAME, 'w') as csvfile:\n",
    "        csvwriter = csv.writer(csvfile)\n",
    "        csvwriter.writerow(CSV_FIELDS)\n",
    "        \n",
    "        for pg, img in enumerate(images):\n",
    "            print('page ' + str(pg+1) + '...')\n",
    "            line = []\n",
    "            training_entry = ()\n",
    "            text = ocr_core(img)\n",
    "            \n",
    "            line.append(pg+1)\n",
    "            \n",
    "            bookmark_type = find_whichNote(text)\n",
    "            line.append(bookmark_type)\n",
    "            bookmark_list.append(bookmark_type)\n",
    "            \n",
    "            line.append(find_lender(text))\n",
    "            line.append(find_maximumPrincipalAmount(text))\n",
    "            line.append(find_maturityDate(text))\n",
    "            \n",
    "            csvwriter.writerow(line)\n",
    "            \n",
    "            if max_page != 0:\n",
    "                if pg+1 >= max_page:\n",
    "                    break\n",
    "    \n",
    "    return bookmark_list, training_data\n",
    "\n",
    "\n",
    "#test\n",
    "bookmarks, training_data = process_images(note_images, 6)\n",
    "print(bookmarks)\n",
    "print(training_data)\n"
   ]
  },
  {
   "cell_type": "code",
   "execution_count": null,
   "metadata": {
    "id": "XD4tE2gKN1md"
   },
   "outputs": [],
   "source": [
    "TRAIN_DATA = ..."
   ]
  },
  {
   "cell_type": "markdown",
   "metadata": {
    "id": "piAaUgMU4jU2"
   },
   "source": [
    "# Create new model. (Just run the cell)"
   ]
  },
  {
   "cell_type": "code",
   "execution_count": 2,
   "metadata": {
    "ExecuteTime": {
     "end_time": "2021-05-11T16:53:56.667069Z",
     "start_time": "2021-05-11T16:53:55.898004Z"
    },
    "id": "nQ7gE01F2aRg"
   },
   "outputs": [],
   "source": [
    "nlp = spacy.blank(\"en\")\n",
    "ner = nlp.create_pipe(\"ner\")\n",
    "nlp.add_pipe(ner)"
   ]
  },
  {
   "cell_type": "code",
   "execution_count": 5,
   "metadata": {},
   "outputs": [
    {
     "data": {
      "text/plain": [
       "[('ner', <spacy.pipeline.pipes.EntityRecognizer at 0x7f534bd97700>)]"
      ]
     },
     "execution_count": 5,
     "metadata": {},
     "output_type": "execute_result"
    }
   ],
   "source": [
    "nlp.pipeline"
   ]
  },
  {
   "cell_type": "markdown",
   "metadata": {
    "id": "NHH3D0Fp5Inw"
   },
   "source": [
    "# Register the entity label"
   ]
  },
  {
   "cell_type": "code",
   "execution_count": 3,
   "metadata": {
    "id": "bUw_OoDj5Hck"
   },
   "outputs": [],
   "source": [
    "for lb in ['label']: # Change the label.\n",
    "    ner.add_label(lb)"
   ]
  },
  {
   "cell_type": "markdown",
   "metadata": {
    "id": "iEgogOqP5blh"
   },
   "source": [
    "# Train the NER model (Just run the cell)"
   ]
  },
  {
   "cell_type": "code",
   "execution_count": 4,
   "metadata": {
    "ExecuteTime": {
     "end_time": "2021-05-11T17:27:12.020904Z",
     "start_time": "2021-05-11T17:22:14.476260Z"
    },
    "code_folding": [],
    "id": "euK4yOoSuBN1",
    "run_control": {
     "marked": true
    },
    "scrolled": false
   },
   "outputs": [
    {
     "name": "stderr",
     "output_type": "stream",
     "text": [
      "/opt/conda/lib/python3.8/site-packages/spacy/language.py:635: UserWarning: [W033] Training a new parser or NER using a model with no lexeme normalization table. This may degrade the performance of the model to some degree. If this is intentional or the language you're using doesn't have a normalization table, please ignore this warning. If this is surprising, make sure you have the spacy-lookups-data package installed. The languages with lexeme normalization tables are currently: da, de, el, en, id, lb, pt, ru, sr, ta, th.\n",
      "  proc.begin_training(\n"
     ]
    },
    {
     "ename": "NameError",
     "evalue": "name 'TRAIN_DATA' is not defined",
     "output_type": "error",
     "traceback": [
      "\u001b[0;31m---------------------------------------------------------------------------\u001b[0m",
      "\u001b[0;31mNameError\u001b[0m                                 Traceback (most recent call last)",
      "\u001b[0;32m<ipython-input-4-981c9ae6b51e>\u001b[0m in \u001b[0;36m<module>\u001b[0;34m\u001b[0m\n\u001b[1;32m     10\u001b[0m     \u001b[0;31m# batch up the examples using spaCy's minibatch\u001b[0m\u001b[0;34m\u001b[0m\u001b[0;34m\u001b[0m\u001b[0;34m\u001b[0m\u001b[0m\n\u001b[1;32m     11\u001b[0m     \u001b[0;32mfor\u001b[0m \u001b[0mitn\u001b[0m \u001b[0;32min\u001b[0m \u001b[0mrange\u001b[0m\u001b[0;34m(\u001b[0m\u001b[0;36m50\u001b[0m\u001b[0;34m)\u001b[0m\u001b[0;34m:\u001b[0m\u001b[0;34m\u001b[0m\u001b[0;34m\u001b[0m\u001b[0m\n\u001b[0;32m---> 12\u001b[0;31m         \u001b[0mrandom\u001b[0m\u001b[0;34m.\u001b[0m\u001b[0mshuffle\u001b[0m\u001b[0;34m(\u001b[0m\u001b[0mTRAIN_DATA\u001b[0m\u001b[0;34m)\u001b[0m\u001b[0;34m\u001b[0m\u001b[0;34m\u001b[0m\u001b[0m\n\u001b[0m\u001b[1;32m     13\u001b[0m         \u001b[0mbatches\u001b[0m \u001b[0;34m=\u001b[0m \u001b[0mminibatch\u001b[0m\u001b[0;34m(\u001b[0m\u001b[0mTRAIN_DATA\u001b[0m\u001b[0;34m,\u001b[0m \u001b[0msize\u001b[0m \u001b[0;34m=\u001b[0m \u001b[0msizes\u001b[0m\u001b[0;34m)\u001b[0m\u001b[0;34m\u001b[0m\u001b[0;34m\u001b[0m\u001b[0m\n\u001b[1;32m     14\u001b[0m         \u001b[0mlosses\u001b[0m \u001b[0;34m=\u001b[0m \u001b[0;34m{\u001b[0m\u001b[0;34m}\u001b[0m\u001b[0;34m\u001b[0m\u001b[0;34m\u001b[0m\u001b[0m\n",
      "\u001b[0;31mNameError\u001b[0m: name 'TRAIN_DATA' is not defined"
     ]
    }
   ],
   "source": [
    "optimizer = nlp.begin_training()\n",
    "\n",
    "move_names = list(ner.move_names) # Only for new model\n",
    "\n",
    "# get names of other pipes to disable them during training\n",
    "other_pipes = [pipe for pipe in nlp.pipe_names if pipe != \"ner\"]\n",
    "\n",
    "with nlp.disable_pipes(*other_pipes):  # only train NER\n",
    "    sizes = compounding(1.0, 4.0, 1.001)\n",
    "    # batch up the examples using spaCy's minibatch\n",
    "    for itn in range(50):\n",
    "        random.shuffle(TRAIN_DATA)\n",
    "        batches = minibatch(TRAIN_DATA, size = sizes)\n",
    "        losses = {}\n",
    "        for batch in batches:\n",
    "            texts, annotations = zip(*batch)\n",
    "            nlp.update(texts, annotations, sgd = optimizer, drop = 0.35, losses = losses)\n",
    "        print(\"Losses\", losses)"
   ]
  },
  {
   "cell_type": "markdown",
   "metadata": {
    "id": "8Zn3vMUq6rBc"
   },
   "source": [
    "# Save the model"
   ]
  },
  {
   "cell_type": "code",
   "execution_count": null,
   "metadata": {
    "ExecuteTime": {
     "end_time": "2021-05-11T17:29:40.244434Z",
     "start_time": "2021-05-11T17:29:40.197062Z"
    },
    "id": "TIwkNi2C2aRh"
   },
   "outputs": [],
   "source": [
    "folder_path = 'path/model_name' #Change this\n",
    "nlp.to_disk(folder_path)"
   ]
  },
  {
   "cell_type": "markdown",
   "metadata": {
    "id": "IszBztOy7XKx"
   },
   "source": [
    "# How to use the model?"
   ]
  },
  {
   "cell_type": "markdown",
   "metadata": {
    "id": "mQmVerUrNU1P"
   },
   "source": [
    "## Load the model"
   ]
  },
  {
   "cell_type": "code",
   "execution_count": 8,
   "metadata": {
    "id": "xO_-bdKGNR5g"
   },
   "outputs": [
    {
     "ename": "OSError",
     "evalue": "[E050] Can't find model 'path/NER_model_name'. It doesn't seem to be a shortcut link, a Python package or a valid path to a data directory.",
     "output_type": "error",
     "traceback": [
      "\u001b[0;31m---------------------------------------------------------------------------\u001b[0m",
      "\u001b[0;31mOSError\u001b[0m                                   Traceback (most recent call last)",
      "\u001b[0;32m<ipython-input-8-66f8c7f8ef56>\u001b[0m in \u001b[0;36m<module>\u001b[0;34m\u001b[0m\n\u001b[0;32m----> 1\u001b[0;31m \u001b[0mnlp\u001b[0m \u001b[0;34m=\u001b[0m \u001b[0mspacy\u001b[0m\u001b[0;34m.\u001b[0m\u001b[0mload\u001b[0m\u001b[0;34m(\u001b[0m\u001b[0;34m\"path/NER_model_name\"\u001b[0m\u001b[0;34m)\u001b[0m\u001b[0;34m\u001b[0m\u001b[0;34m\u001b[0m\u001b[0m\n\u001b[0m",
      "\u001b[0;32m/opt/conda/lib/python3.8/site-packages/spacy/__init__.py\u001b[0m in \u001b[0;36mload\u001b[0;34m(name, **overrides)\u001b[0m\n\u001b[1;32m     28\u001b[0m     \u001b[0;32mif\u001b[0m \u001b[0mdepr_path\u001b[0m \u001b[0;32mnot\u001b[0m \u001b[0;32min\u001b[0m \u001b[0;34m(\u001b[0m\u001b[0;32mTrue\u001b[0m\u001b[0;34m,\u001b[0m \u001b[0;32mFalse\u001b[0m\u001b[0;34m,\u001b[0m \u001b[0;32mNone\u001b[0m\u001b[0;34m)\u001b[0m\u001b[0;34m:\u001b[0m\u001b[0;34m\u001b[0m\u001b[0;34m\u001b[0m\u001b[0m\n\u001b[1;32m     29\u001b[0m         \u001b[0mwarnings\u001b[0m\u001b[0;34m.\u001b[0m\u001b[0mwarn\u001b[0m\u001b[0;34m(\u001b[0m\u001b[0mWarnings\u001b[0m\u001b[0;34m.\u001b[0m\u001b[0mW001\u001b[0m\u001b[0;34m.\u001b[0m\u001b[0mformat\u001b[0m\u001b[0;34m(\u001b[0m\u001b[0mpath\u001b[0m\u001b[0;34m=\u001b[0m\u001b[0mdepr_path\u001b[0m\u001b[0;34m)\u001b[0m\u001b[0;34m,\u001b[0m \u001b[0mDeprecationWarning\u001b[0m\u001b[0;34m)\u001b[0m\u001b[0;34m\u001b[0m\u001b[0;34m\u001b[0m\u001b[0m\n\u001b[0;32m---> 30\u001b[0;31m     \u001b[0;32mreturn\u001b[0m \u001b[0mutil\u001b[0m\u001b[0;34m.\u001b[0m\u001b[0mload_model\u001b[0m\u001b[0;34m(\u001b[0m\u001b[0mname\u001b[0m\u001b[0;34m,\u001b[0m \u001b[0;34m**\u001b[0m\u001b[0moverrides\u001b[0m\u001b[0;34m)\u001b[0m\u001b[0;34m\u001b[0m\u001b[0;34m\u001b[0m\u001b[0m\n\u001b[0m\u001b[1;32m     31\u001b[0m \u001b[0;34m\u001b[0m\u001b[0m\n\u001b[1;32m     32\u001b[0m \u001b[0;34m\u001b[0m\u001b[0m\n",
      "\u001b[0;32m/opt/conda/lib/python3.8/site-packages/spacy/util.py\u001b[0m in \u001b[0;36mload_model\u001b[0;34m(name, **overrides)\u001b[0m\n\u001b[1;32m    173\u001b[0m     \u001b[0;32melif\u001b[0m \u001b[0mhasattr\u001b[0m\u001b[0;34m(\u001b[0m\u001b[0mname\u001b[0m\u001b[0;34m,\u001b[0m \u001b[0;34m\"exists\"\u001b[0m\u001b[0;34m)\u001b[0m\u001b[0;34m:\u001b[0m  \u001b[0;31m# Path or Path-like to model data\u001b[0m\u001b[0;34m\u001b[0m\u001b[0;34m\u001b[0m\u001b[0m\n\u001b[1;32m    174\u001b[0m         \u001b[0;32mreturn\u001b[0m \u001b[0mload_model_from_path\u001b[0m\u001b[0;34m(\u001b[0m\u001b[0mname\u001b[0m\u001b[0;34m,\u001b[0m \u001b[0;34m**\u001b[0m\u001b[0moverrides\u001b[0m\u001b[0;34m)\u001b[0m\u001b[0;34m\u001b[0m\u001b[0;34m\u001b[0m\u001b[0m\n\u001b[0;32m--> 175\u001b[0;31m     \u001b[0;32mraise\u001b[0m \u001b[0mIOError\u001b[0m\u001b[0;34m(\u001b[0m\u001b[0mErrors\u001b[0m\u001b[0;34m.\u001b[0m\u001b[0mE050\u001b[0m\u001b[0;34m.\u001b[0m\u001b[0mformat\u001b[0m\u001b[0;34m(\u001b[0m\u001b[0mname\u001b[0m\u001b[0;34m=\u001b[0m\u001b[0mname\u001b[0m\u001b[0;34m)\u001b[0m\u001b[0;34m)\u001b[0m\u001b[0;34m\u001b[0m\u001b[0;34m\u001b[0m\u001b[0m\n\u001b[0m\u001b[1;32m    176\u001b[0m \u001b[0;34m\u001b[0m\u001b[0m\n\u001b[1;32m    177\u001b[0m \u001b[0;34m\u001b[0m\u001b[0m\n",
      "\u001b[0;31mOSError\u001b[0m: [E050] Can't find model 'path/NER_model_name'. It doesn't seem to be a shortcut link, a Python package or a valid path to a data directory."
     ]
    }
   ],
   "source": [
    "nlp = spacy.load(\"path/NER_model_name\")"
   ]
  },
  {
   "cell_type": "markdown",
   "metadata": {
    "id": "4XRJVJueNX0M"
   },
   "source": [
    "## Extract the entities"
   ]
  },
  {
   "cell_type": "code",
   "execution_count": 7,
   "metadata": {
    "ExecuteTime": {
     "end_time": "2021-05-10T19:43:39.724599Z",
     "start_time": "2021-05-10T19:43:39.707190Z"
    },
    "id": "mChGX2Y_2aRj"
   },
   "outputs": [],
   "source": [
    "t = 'This is a test sentence.'\n",
    "for e in nlp(t).ents:\n",
    "    print(e.label_, e.text)"
   ]
  },
  {
   "cell_type": "code",
   "execution_count": null,
   "metadata": {},
   "outputs": [],
   "source": []
  }
 ],
 "metadata": {
  "celltoolbar": "Initialization Cell",
  "colab": {
   "collapsed_sections": [],
   "name": "NER training.ipynb",
   "provenance": []
  },
  "kernelspec": {
   "display_name": "Python 3",
   "language": "python",
   "name": "python3"
  },
  "language_info": {
   "codemirror_mode": {
    "name": "ipython",
    "version": 3
   },
   "file_extension": ".py",
   "mimetype": "text/x-python",
   "name": "python",
   "nbconvert_exporter": "python",
   "pygments_lexer": "ipython3",
   "version": "3.8.3"
  },
  "toc": {
   "base_numbering": 1,
   "nav_menu": {},
   "number_sections": true,
   "sideBar": true,
   "skip_h1_title": false,
   "title_cell": "Table of Contents",
   "title_sidebar": "Contents",
   "toc_cell": false,
   "toc_position": {},
   "toc_section_display": true,
   "toc_window_display": false
  },
  "varInspector": {
   "cols": {
    "lenName": 16,
    "lenType": 16,
    "lenVar": 40
   },
   "kernels_config": {
    "python": {
     "delete_cmd_postfix": "",
     "delete_cmd_prefix": "del ",
     "library": "var_list.py",
     "varRefreshCmd": "print(var_dic_list())"
    },
    "r": {
     "delete_cmd_postfix": ") ",
     "delete_cmd_prefix": "rm(",
     "library": "var_list.r",
     "varRefreshCmd": "cat(var_dic_list()) "
    }
   },
   "position": {
    "height": "195.667px",
    "left": "911px",
    "right": "20px",
    "top": "120px",
    "width": "336px"
   },
   "types_to_exclude": [
    "module",
    "function",
    "builtin_function_or_method",
    "instance",
    "_Feature"
   ],
   "window_display": false
  }
 },
 "nbformat": 4,
 "nbformat_minor": 1
}
