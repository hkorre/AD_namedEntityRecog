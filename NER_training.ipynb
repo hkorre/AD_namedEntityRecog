{
  "nbformat": 4,
  "nbformat_minor": 0,
  "metadata": {
    "celltoolbar": "Initialization Cell",
    "colab": {
      "name": "NER training.ipynb",
      "provenance": [],
      "collapsed_sections": []
    },
    "kernelspec": {
      "display_name": "Python 3",
      "language": "python",
      "name": "python3"
    },
    "language_info": {
      "codemirror_mode": {
        "name": "ipython",
        "version": 3
      },
      "file_extension": ".py",
      "mimetype": "text/x-python",
      "name": "python",
      "nbconvert_exporter": "python",
      "pygments_lexer": "ipython3",
      "version": "3.8.5"
    },
    "toc": {
      "base_numbering": 1,
      "nav_menu": {},
      "number_sections": true,
      "sideBar": true,
      "skip_h1_title": false,
      "title_cell": "Table of Contents",
      "title_sidebar": "Contents",
      "toc_cell": false,
      "toc_position": {},
      "toc_section_display": true,
      "toc_window_display": false
    },
    "varInspector": {
      "cols": {
        "lenName": 16,
        "lenType": 16,
        "lenVar": 40
      },
      "kernels_config": {
        "python": {
          "delete_cmd_postfix": "",
          "delete_cmd_prefix": "del ",
          "library": "var_list.py",
          "varRefreshCmd": "print(var_dic_list())"
        },
        "r": {
          "delete_cmd_postfix": ") ",
          "delete_cmd_prefix": "rm(",
          "library": "var_list.r",
          "varRefreshCmd": "cat(var_dic_list()) "
        }
      },
      "position": {
        "height": "195.667px",
        "left": "911px",
        "right": "20px",
        "top": "120px",
        "width": "336px"
      },
      "types_to_exclude": [
        "module",
        "function",
        "builtin_function_or_method",
        "instance",
        "_Feature"
      ],
      "window_display": false
    }
  },
  "cells": [
    {
      "cell_type": "code",
      "metadata": {
        "id": "Kp0DBqhf2kmp"
      },
      "source": [
        "!pip install spacy==2.3.1\n",
        "import pandas as pd, spacy, random\n",
        "from spacy.util import minibatch, compounding"
      ],
      "execution_count": null,
      "outputs": []
    },
    {
      "cell_type": "markdown",
      "metadata": {
        "id": "cTvEuTlwMhxY"
      },
      "source": [
        "# Load the training data"
      ]
    },
    {
      "cell_type": "markdown",
      "metadata": {
        "id": "IY5lUpFoMoCF"
      },
      "source": [
        "## Training data format:\n",
        "A list of tuples, where each tuple contains 1 data point for a text as shown below.\n",
        "\n",
        "The numbers means starting and ending position of the entities in hte text or string. For example 'STREET' starts at position 210 and ends at position 229 of the string."
      ]
    },
    {
      "cell_type": "code",
      "metadata": {
        "ExecuteTime": {
          "end_time": "2021-04-24T15:51:59.461784Z",
          "start_time": "2021-04-24T15:51:59.458969Z"
        },
        "id": "4c_8n5GBTTIM"
      },
      "source": [
        "SAMPLE_TRAIN_DATA = [('BE SUBORDINATED UPON THE REFINANCING OF ANY PRIOR MORTGAGE\\nTHIS DEED OF TRUST...',\n",
        " {'entities': [(210, 229, 'STREET'), (231, 239, 'CITY'), (241, 243, 'STATE'), (244, 249, 'ZIP')]})]"
      ],
      "execution_count": null,
      "outputs": []
    },
    {
      "cell_type": "markdown",
      "metadata": {
        "id": "XRniCAZMP8Bt"
      },
      "source": [
        "### When labeling entities, there're some special cases to be aware of. If you see random characters is linked together with your entities, you need  to include them as part of the entity.\n",
        "\n",
        "Examples:\n",
        "\n",
        "The @ part means entity. @ is not actually in the string, it's just to show you where the entity is at.\n",
        "\n",
        "*   Here is a sample @entity@.\n",
        "*   Here is a sample @!!#entity*@.\n",
        "*   Here is a sample &*( @entity entity@.\n",
        "*   Here is a sample @^Washington D.C.@, blah blah.\n",
        "\n"
      ]
    },
    {
      "cell_type": "markdown",
      "metadata": {
        "id": "2RmgiijxN4jN"
      },
      "source": [
        "## Load your training data here."
      ]
    },
    {
      "cell_type": "code",
      "metadata": {
        "id": "XD4tE2gKN1md"
      },
      "source": [
        "TRAIN_DATA = ..."
      ],
      "execution_count": null,
      "outputs": []
    },
    {
      "cell_type": "markdown",
      "metadata": {
        "id": "piAaUgMU4jU2"
      },
      "source": [
        "# Create new model. (Just run the cell)"
      ]
    },
    {
      "cell_type": "code",
      "metadata": {
        "ExecuteTime": {
          "end_time": "2021-05-11T16:53:56.667069Z",
          "start_time": "2021-05-11T16:53:55.898004Z"
        },
        "id": "nQ7gE01F2aRg"
      },
      "source": [
        "nlp = spacy.blank(\"en\")\n",
        "ner = nlp.create_pipe(\"ner\")\n",
        "nlp.add_pipe(ner)"
      ],
      "execution_count": null,
      "outputs": []
    },
    {
      "cell_type": "markdown",
      "metadata": {
        "id": "NHH3D0Fp5Inw"
      },
      "source": [
        "# Register the entity label"
      ]
    },
    {
      "cell_type": "code",
      "metadata": {
        "id": "bUw_OoDj5Hck"
      },
      "source": [
        "for lb in ['label']: # Change the label.\n",
        "    ner.add_label(lb)"
      ],
      "execution_count": null,
      "outputs": []
    },
    {
      "cell_type": "markdown",
      "metadata": {
        "id": "iEgogOqP5blh"
      },
      "source": [
        "# Train the NER model (Just run the cell)"
      ]
    },
    {
      "cell_type": "code",
      "metadata": {
        "ExecuteTime": {
          "end_time": "2021-05-11T17:27:12.020904Z",
          "start_time": "2021-05-11T17:22:14.476260Z"
        },
        "code_folding": [],
        "id": "euK4yOoSuBN1",
        "run_control": {
          "marked": true
        },
        "scrolled": false
      },
      "source": [
        "optimizer = nlp.begin_training()\n",
        "\n",
        "move_names = list(ner.move_names) # Only for new model\n",
        "\n",
        "# get names of other pipes to disable them during training\n",
        "other_pipes = [pipe for pipe in nlp.pipe_names if pipe != \"ner\"]\n",
        "\n",
        "with nlp.disable_pipes(*other_pipes):  # only train NER\n",
        "    sizes = compounding(1.0, 4.0, 1.001)\n",
        "    # batch up the examples using spaCy's minibatch\n",
        "    for itn in range(50):\n",
        "        random.shuffle(TRAIN_DATA)\n",
        "        batches = minibatch(TRAIN_DATA, size = sizes)\n",
        "        losses = {}\n",
        "        for batch in batches:\n",
        "            texts, annotations = zip(*batch)\n",
        "            nlp.update(texts, annotations, sgd = optimizer, drop = 0.35, losses = losses)\n",
        "        print(\"Losses\", losses)"
      ],
      "execution_count": null,
      "outputs": []
    },
    {
      "cell_type": "markdown",
      "metadata": {
        "id": "8Zn3vMUq6rBc"
      },
      "source": [
        "# Save the model"
      ]
    },
    {
      "cell_type": "code",
      "metadata": {
        "ExecuteTime": {
          "end_time": "2021-05-11T17:29:40.244434Z",
          "start_time": "2021-05-11T17:29:40.197062Z"
        },
        "id": "TIwkNi2C2aRh"
      },
      "source": [
        "folder_path = 'path/model_name' #Change this\n",
        "nlp.to_disk(folder_path)"
      ],
      "execution_count": null,
      "outputs": []
    },
    {
      "cell_type": "markdown",
      "metadata": {
        "id": "IszBztOy7XKx"
      },
      "source": [
        "# How to use the model?"
      ]
    },
    {
      "cell_type": "markdown",
      "metadata": {
        "id": "mQmVerUrNU1P"
      },
      "source": [
        "## Load the model"
      ]
    },
    {
      "cell_type": "code",
      "metadata": {
        "id": "xO_-bdKGNR5g"
      },
      "source": [
        "nlp = spacy.load(\"path/NER_model_name\")"
      ],
      "execution_count": null,
      "outputs": []
    },
    {
      "cell_type": "markdown",
      "metadata": {
        "id": "4XRJVJueNX0M"
      },
      "source": [
        "## Extract the entities"
      ]
    },
    {
      "cell_type": "code",
      "metadata": {
        "ExecuteTime": {
          "end_time": "2021-05-10T19:43:39.724599Z",
          "start_time": "2021-05-10T19:43:39.707190Z"
        },
        "id": "mChGX2Y_2aRj"
      },
      "source": [
        "t = 'This is a test sentence.'\n",
        "for e in nlp(t).ents:\n",
        "    print(e.label_, e.text)"
      ],
      "execution_count": null,
      "outputs": []
    }
  ]
}